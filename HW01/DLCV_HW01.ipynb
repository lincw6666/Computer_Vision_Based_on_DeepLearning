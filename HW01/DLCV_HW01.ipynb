{
  "nbformat": 4,
  "nbformat_minor": 0,
  "metadata": {
    "colab": {
      "name": "DLCV_HW01",
      "provenance": [],
      "collapsed_sections": [],
      "toc_visible": true
    },
    "kernelspec": {
      "name": "python3",
      "display_name": "Python 3"
    },
    "accelerator": "GPU"
  },
  "cells": [
    {
      "cell_type": "markdown",
      "metadata": {
        "id": "7Nxs_elfmgpz",
        "colab_type": "text"
      },
      "source": [
        "# Install PyTorch"
      ]
    },
    {
      "cell_type": "markdown",
      "metadata": {
        "id": "CzxidRyfnzuB",
        "colab_type": "text"
      },
      "source": [
        "(Optional) Check the version of your system."
      ]
    },
    {
      "cell_type": "code",
      "metadata": {
        "id": "tsu6a21Cl7FQ",
        "colab_type": "code",
        "colab": {}
      },
      "source": [
        "! uname -a\n",
        "! python --version\n",
        "! nvcc --version"
      ],
      "execution_count": 0,
      "outputs": []
    },
    {
      "cell_type": "markdown",
      "metadata": {
        "id": "7aj8HbaLn70U",
        "colab_type": "text"
      },
      "source": [
        "Install PyTorch by pip."
      ]
    },
    {
      "cell_type": "code",
      "metadata": {
        "id": "O0AIb5tfn_4u",
        "colab_type": "code",
        "colab": {}
      },
      "source": [
        "! pip3 install torch torchvision"
      ],
      "execution_count": 0,
      "outputs": []
    },
    {
      "cell_type": "markdown",
      "metadata": {
        "id": "PE1Hs2WEr2Vy",
        "colab_type": "text"
      },
      "source": [
        "# Set up your data"
      ]
    },
    {
      "cell_type": "markdown",
      "metadata": {
        "id": "x7_bTDp36MIq",
        "colab_type": "text"
      },
      "source": [
        "Mount your google drive, where you keep your data (cs-ioc5008-hw1.zip)."
      ]
    },
    {
      "cell_type": "code",
      "metadata": {
        "id": "2QsSFF8G5zEZ",
        "colab_type": "code",
        "colab": {
          "base_uri": "https://localhost:8080/",
          "height": 132
        },
        "outputId": "f2150b2c-a7b4-406e-c700-78581f0848ff"
      },
      "source": [
        "from google.colab import drive\n",
        "drive.mount('/gdrive')"
      ],
      "execution_count": 1,
      "outputs": [
        {
          "output_type": "stream",
          "text": [
            "Go to this URL in a browser: https://accounts.google.com/o/oauth2/auth?client_id=947318989803-6bn6qk8qdgf4n4g3pfee6491hc0brc4i.apps.googleusercontent.com&redirect_uri=urn%3Aietf%3Awg%3Aoauth%3A2.0%3Aoob&scope=email%20https%3A%2F%2Fwww.googleapis.com%2Fauth%2Fdocs.test%20https%3A%2F%2Fwww.googleapis.com%2Fauth%2Fdrive%20https%3A%2F%2Fwww.googleapis.com%2Fauth%2Fdrive.photos.readonly%20https%3A%2F%2Fwww.googleapis.com%2Fauth%2Fpeopleapi.readonly&response_type=code\n",
            "\n",
            "Enter your authorization code:\n",
            "··········\n",
            "Mounted at /gdrive\n"
          ],
          "name": "stdout"
        }
      ]
    },
    {
      "cell_type": "markdown",
      "metadata": {
        "id": "B2KxagOm_YEd",
        "colab_type": "text"
      },
      "source": [
        "Unzip it to your home directory."
      ]
    },
    {
      "cell_type": "code",
      "metadata": {
        "id": "t3JK5-F_-xti",
        "colab_type": "code",
        "colab": {}
      },
      "source": [
        "! unzip -q /gdrive/'My Drive'/'Colab Notebooks'/cs-ioc5008-hw1.zip -d ./"
      ],
      "execution_count": 0,
      "outputs": []
    },
    {
      "cell_type": "markdown",
      "metadata": {
        "id": "Z1yLhgDIsF1o",
        "colab_type": "text"
      },
      "source": [
        "(Deprecated) If you don't want to use google drive, just upload cs-ioc5008-hw1.zip and unzip it."
      ]
    },
    {
      "cell_type": "code",
      "metadata": {
        "id": "mDZJE82Zr7Bh",
        "colab_type": "code",
        "colab": {}
      },
      "source": [
        "#from google.colab import files\n",
        "#files.upload()\n",
        "#! unzip cs-ioc5008-hw1.zip"
      ],
      "execution_count": 0,
      "outputs": []
    },
    {
      "cell_type": "markdown",
      "metadata": {
        "id": "s2B6iA12AcIl",
        "colab_type": "text"
      },
      "source": [
        "# Main function start"
      ]
    },
    {
      "cell_type": "markdown",
      "metadata": {
        "id": "EzlqQWGSgXFr",
        "colab_type": "text"
      },
      "source": [
        "Import all the packages we need."
      ]
    },
    {
      "cell_type": "code",
      "metadata": {
        "id": "XDHS1h0Huwnl",
        "colab_type": "code",
        "colab": {}
      },
      "source": [
        "import torch\n",
        "import torchvision\n",
        "from torchvision import transforms, datasets\n",
        "import matplotlib.pyplot as plt\n",
        "import numpy as np\n",
        "import os\n",
        "from PIL import Image\n",
        "import pandas as pd"
      ],
      "execution_count": 0,
      "outputs": []
    },
    {
      "cell_type": "markdown",
      "metadata": {
        "id": "4_DhsBLWibt_",
        "colab_type": "text"
      },
      "source": [
        "Load the data. Seperate it into training and validation set."
      ]
    },
    {
      "cell_type": "code",
      "metadata": {
        "id": "wZfYqzYLIzif",
        "colab_type": "code",
        "colab": {}
      },
      "source": [
        "# Define the transform apply on the dataset.\n",
        "data_transform = transforms.Compose([\n",
        "    # transforms.RandomSizedCrop(224),\n",
        "    # transforms.RandomHorizontalFlip(),\n",
        "    transforms.Resize((256, 256)),\n",
        "    transforms.ToTensor(),\n",
        "    #transforms.Normalize(mean=[0.485, 0.456, 0.406],\n",
        "    #                     std=[0.229, 0.224, 0.225])\n",
        "])\n",
        "# Load the dataset.\n",
        "hw1_dataset = datasets.ImageFolder(root='dataset/dataset/train',\n",
        "                                   transform=data_transform)\n",
        "data_classes = hw1_dataset.classes\n",
        "\n",
        "# Split the dataset into training and testing set.\n",
        "torch.manual_seed(1)\n",
        "split_point = int(len(hw1_dataset) * 0.7)\n",
        "indices = torch.randperm(len(hw1_dataset)).tolist()\n",
        "dataset = torch.utils.data.Subset(hw1_dataset, indices[:split_point])\n",
        "dataset_test = torch.utils.data.Subset(hw1_dataset, indices[split_point:])\n",
        "\n",
        "# Define training and validation data loaders.\n",
        "data_loader = torch.utils.data.DataLoader(\n",
        "    dataset, batch_size=4, shuffle=True, num_workers=4)\n",
        "data_loader_test = torch.utils.data.DataLoader(\n",
        "    dataset_test, batch_size=1, shuffle=False, num_workers=4)"
      ],
      "execution_count": 0,
      "outputs": []
    },
    {
      "cell_type": "markdown",
      "metadata": {
        "id": "iCBo9_hW2ugh",
        "colab_type": "text"
      },
      "source": [
        "Show the picture. We can know that whether we have loaded the data correctly or not."
      ]
    },
    {
      "cell_type": "code",
      "metadata": {
        "id": "sqxaikPsvaKq",
        "colab_type": "code",
        "outputId": "1577b04a-855b-414c-d4b0-ae848bb75e02",
        "colab": {
          "base_uri": "https://localhost:8080/",
          "height": 288
        }
      },
      "source": [
        "for batched_data, label in data_loader_test:\n",
        "    print(batched_data.size(), label.size())\n",
        "    \n",
        "    # Show image.\n",
        "    npimg = batched_data[0].numpy()\n",
        "    plt.imshow(np.transpose(npimg, (1, 2, 0)))\n",
        "    plt.show()\n",
        "    \n",
        "    break"
      ],
      "execution_count": 15,
      "outputs": [
        {
          "output_type": "stream",
          "text": [
            "torch.Size([1, 3, 256, 256]) torch.Size([1])\n"
          ],
          "name": "stdout"
        },
        {
          "output_type": "display_data",
          "data": {
            "image/png": "[encoded data removed]",
            "text/plain": [
              "<Figure size 432x288 with 1 Axes>"
            ]
          },
          "metadata": {
            "tags": []
          }
        }
      ]
    },
    {
      "cell_type": "markdown",
      "metadata": {
        "id": "dbIWDYEc2_uJ",
        "colab_type": "text"
      },
      "source": [
        "Build a CNN model."
      ]
    },
    {
      "cell_type": "code",
      "metadata": {
        "id": "dwhSUIn_3B_m",
        "colab_type": "code",
        "outputId": "ce9fdffd-fe2a-4805-c069-7a53b426add2",
        "colab": {
          "base_uri": "https://localhost:8080/",
          "height": 854
        }
      },
      "source": [
        "device = torch.device('cuda') if torch.cuda.is_available() else torch.device('cpu')\n",
        "\n",
        "# Get the pretrained model.\n",
        "model = torchvision.models.resnet18(pretrained=True)\n",
        "for param in model.parameters():\n",
        "    param.requires_grad = False\n",
        "# Modify the ouput layer to fit our task.\n",
        "num_features = model.fc.in_features\n",
        "# Our dataset has 13 classes.\n",
        "num_classes = 13\n",
        "model.fc = torch.nn.Linear(num_features, num_classes)\n",
        "# move model to the right device\n",
        "model.to(device)\n",
        "\n",
        "# Construct a criterion and an optimizer.\n",
        "criterion = torch.nn.CrossEntropyLoss()\n",
        "#criterion = torch.nn.MSELoss()\n",
        "optimizer = torch.optim.SGD(model.parameters(), lr=0.005,\n",
        "                            momentum=0.9, weight_decay=0.0005)\n",
        "\n",
        "# And a learning rate scheduler which decreases the learning rate by\n",
        "# 10x every 3 epochs\n",
        "lr_scheduler = torch.optim.lr_scheduler.StepLR(optimizer,\n",
        "                                               step_size=3,\n",
        "                                               gamma=0.1)\n",
        "    \n",
        "# let's train it for @num_epochs epochs\n",
        "num_epochs = 20\n",
        "for epoch in range(num_epochs):\n",
        "    # Train for one epoch, printing every 10 iterations\n",
        "    running_loss = 0.0\n",
        "    for i, data in enumerate(data_loader, 0):\n",
        "        # Get the inputs; data is a list of [inputs, labels]\n",
        "        inputs, labels = data\n",
        "        inputs = inputs.to(device)\n",
        "        labels = labels.to(device)\n",
        "        \n",
        "        # zero the parameter gradients\n",
        "        optimizer.zero_grad()\n",
        "\n",
        "        # forward + backward + optimize\n",
        "        outputs = model(inputs)\n",
        "        #_, outputs = torch.max(outputs, 1)\n",
        "        loss = criterion(outputs, labels)\n",
        "        loss.backward()\n",
        "        optimizer.step()\n",
        "\n",
        "        # print statistics\n",
        "        running_loss += loss.item()\n",
        "        if i % 200 == 199:    # print every 200 mini-batches\n",
        "            print('[%d, %5d] loss: %.3f' %\n",
        "                  (epoch + 1, i + 1, running_loss / 2000))\n",
        "            running_loss = 0.0\n",
        "    # update the learning rate\n",
        "    lr_scheduler.step()\n",
        "    \n",
        "print('Finished Training')"
      ],
      "execution_count": 16,
      "outputs": [
        {
          "output_type": "stream",
          "text": [
            "Downloading: \"https://download.pytorch.org/models/resnet18-5c106cde.pth\" to /root/.cache/torch/checkpoints/resnet18-5c106cde.pth\n",
            "100%|██████████| 44.7M/44.7M [00:00<00:00, 119MB/s]\n"
          ],
          "name": "stderr"
        },
        {
          "output_type": "stream",
          "text": [
            "[1,   200] loss: 0.235\n",
            "[1,   400] loss: 0.141\n",
            "[2,   200] loss: 0.129\n",
            "[2,   400] loss: 0.123\n",
            "[3,   200] loss: 0.147\n",
            "[3,   400] loss: 0.128\n",
            "[4,   200] loss: 0.063\n",
            "[4,   400] loss: 0.057\n",
            "[5,   200] loss: 0.061\n",
            "[5,   400] loss: 0.062\n",
            "[6,   200] loss: 0.046\n",
            "[6,   400] loss: 0.056\n",
            "[7,   200] loss: 0.051\n",
            "[7,   400] loss: 0.059\n",
            "[8,   200] loss: 0.054\n",
            "[8,   400] loss: 0.050\n",
            "[9,   200] loss: 0.046\n",
            "[9,   400] loss: 0.044\n",
            "[10,   200] loss: 0.049\n",
            "[10,   400] loss: 0.054\n",
            "[11,   200] loss: 0.056\n",
            "[11,   400] loss: 0.051\n",
            "[12,   200] loss: 0.046\n",
            "[12,   400] loss: 0.049\n",
            "[13,   200] loss: 0.049\n",
            "[13,   400] loss: 0.053\n",
            "[14,   200] loss: 0.045\n",
            "[14,   400] loss: 0.047\n",
            "[15,   200] loss: 0.047\n",
            "[15,   400] loss: 0.046\n",
            "[16,   200] loss: 0.051\n",
            "[16,   400] loss: 0.054\n",
            "[17,   200] loss: 0.054\n",
            "[17,   400] loss: 0.041\n",
            "[18,   200] loss: 0.050\n",
            "[18,   400] loss: 0.057\n",
            "[19,   200] loss: 0.060\n",
            "[19,   400] loss: 0.056\n",
            "[20,   200] loss: 0.055\n",
            "[20,   400] loss: 0.054\n",
            "Finished Training\n"
          ],
          "name": "stdout"
        }
      ]
    },
    {
      "cell_type": "markdown",
      "metadata": {
        "id": "3xcrmcSfPs7B",
        "colab_type": "text"
      },
      "source": [
        "Save the parameters of the trained model."
      ]
    },
    {
      "cell_type": "code",
      "metadata": {
        "id": "AlxXDHNAP4-F",
        "colab_type": "code",
        "colab": {}
      },
      "source": [
        "# Save result.\n",
        "model_params_result_path = './hw1_net.pth'\n",
        "torch.save(model.state_dict(), model_params_result_path)"
      ],
      "execution_count": 0,
      "outputs": []
    },
    {
      "cell_type": "markdown",
      "metadata": {
        "id": "0A3H2dejRMdI",
        "colab_type": "text"
      },
      "source": [
        "Create a new network to load the tained model."
      ]
    },
    {
      "cell_type": "code",
      "metadata": {
        "id": "DZIo8KtMRIvQ",
        "colab_type": "code",
        "outputId": "0334c54c-3cec-42b6-9dcc-d45d4fe25c35",
        "colab": {
          "base_uri": "https://localhost:8080/",
          "height": 1000
        }
      },
      "source": [
        "# Load result.\n",
        "net = torchvision.models.resnet18(pretrained=False)\n",
        "net.fc = torch.nn.Linear(num_features, num_classes)\n",
        "net.load_state_dict(torch.load(model_params_result_path))\n",
        "net.eval()\n",
        "net.to(device)"
      ],
      "execution_count": 18,
      "outputs": [
        {
          "output_type": "execute_result",
          "data": {
            "text/plain": [
              "ResNet(\n",
              "  (conv1): Conv2d(3, 64, kernel_size=(7, 7), stride=(2, 2), padding=(3, 3), bias=False)\n",
              "  (bn1): BatchNorm2d(64, eps=1e-05, momentum=0.1, affine=True, track_running_stats=True)\n",
              "  (relu): ReLU(inplace=True)\n",
              "  (maxpool): MaxPool2d(kernel_size=3, stride=2, padding=1, dilation=1, ceil_mode=False)\n",
              "  (layer1): Sequential(\n",
              "    (0): BasicBlock(\n",
              "      (conv1): Conv2d(64, 64, kernel_size=(3, 3), stride=(1, 1), padding=(1, 1), bias=False)\n",
              "      (bn1): BatchNorm2d(64, eps=1e-05, momentum=0.1, affine=True, track_running_stats=True)\n",
              "      (relu): ReLU(inplace=True)\n",
              "      (conv2): Conv2d(64, 64, kernel_size=(3, 3), stride=(1, 1), padding=(1, 1), bias=False)\n",
              "      (bn2): BatchNorm2d(64, eps=1e-05, momentum=0.1, affine=True, track_running_stats=True)\n",
              "    )\n",
              "    (1): BasicBlock(\n",
              "      (conv1): Conv2d(64, 64, kernel_size=(3, 3), stride=(1, 1), padding=(1, 1), bias=False)\n",
              "      (bn1): BatchNorm2d(64, eps=1e-05, momentum=0.1, affine=True, track_running_stats=True)\n",
              "      (relu): ReLU(inplace=True)\n",
              "      (conv2): Conv2d(64, 64, kernel_size=(3, 3), stride=(1, 1), padding=(1, 1), bias=False)\n",
              "      (bn2): BatchNorm2d(64, eps=1e-05, momentum=0.1, affine=True, track_running_stats=True)\n",
              "    )\n",
              "  )\n",
              "  (layer2): Sequential(\n",
              "    (0): BasicBlock(\n",
              "      (conv1): Conv2d(64, 128, kernel_size=(3, 3), stride=(2, 2), padding=(1, 1), bias=False)\n",
              "      (bn1): BatchNorm2d(128, eps=1e-05, momentum=0.1, affine=True, track_running_stats=True)\n",
              "      (relu): ReLU(inplace=True)\n",
              "      (conv2): Conv2d(128, 128, kernel_size=(3, 3), stride=(1, 1), padding=(1, 1), bias=False)\n",
              "      (bn2): BatchNorm2d(128, eps=1e-05, momentum=0.1, affine=True, track_running_stats=True)\n",
              "      (downsample): Sequential(\n",
              "        (0): Conv2d(64, 128, kernel_size=(1, 1), stride=(2, 2), bias=False)\n",
              "        (1): BatchNorm2d(128, eps=1e-05, momentum=0.1, affine=True, track_running_stats=True)\n",
              "      )\n",
              "    )\n",
              "    (1): BasicBlock(\n",
              "      (conv1): Conv2d(128, 128, kernel_size=(3, 3), stride=(1, 1), padding=(1, 1), bias=False)\n",
              "      (bn1): BatchNorm2d(128, eps=1e-05, momentum=0.1, affine=True, track_running_stats=True)\n",
              "      (relu): ReLU(inplace=True)\n",
              "      (conv2): Conv2d(128, 128, kernel_size=(3, 3), stride=(1, 1), padding=(1, 1), bias=False)\n",
              "      (bn2): BatchNorm2d(128, eps=1e-05, momentum=0.1, affine=True, track_running_stats=True)\n",
              "    )\n",
              "  )\n",
              "  (layer3): Sequential(\n",
              "    (0): BasicBlock(\n",
              "      (conv1): Conv2d(128, 256, kernel_size=(3, 3), stride=(2, 2), padding=(1, 1), bias=False)\n",
              "      (bn1): BatchNorm2d(256, eps=1e-05, momentum=0.1, affine=True, track_running_stats=True)\n",
              "      (relu): ReLU(inplace=True)\n",
              "      (conv2): Conv2d(256, 256, kernel_size=(3, 3), stride=(1, 1), padding=(1, 1), bias=False)\n",
              "      (bn2): BatchNorm2d(256, eps=1e-05, momentum=0.1, affine=True, track_running_stats=True)\n",
              "      (downsample): Sequential(\n",
              "        (0): Conv2d(128, 256, kernel_size=(1, 1), stride=(2, 2), bias=False)\n",
              "        (1): BatchNorm2d(256, eps=1e-05, momentum=0.1, affine=True, track_running_stats=True)\n",
              "      )\n",
              "    )\n",
              "    (1): BasicBlock(\n",
              "      (conv1): Conv2d(256, 256, kernel_size=(3, 3), stride=(1, 1), padding=(1, 1), bias=False)\n",
              "      (bn1): BatchNorm2d(256, eps=1e-05, momentum=0.1, affine=True, track_running_stats=True)\n",
              "      (relu): ReLU(inplace=True)\n",
              "      (conv2): Conv2d(256, 256, kernel_size=(3, 3), stride=(1, 1), padding=(1, 1), bias=False)\n",
              "      (bn2): BatchNorm2d(256, eps=1e-05, momentum=0.1, affine=True, track_running_stats=True)\n",
              "    )\n",
              "  )\n",
              "  (layer4): Sequential(\n",
              "    (0): BasicBlock(\n",
              "      (conv1): Conv2d(256, 512, kernel_size=(3, 3), stride=(2, 2), padding=(1, 1), bias=False)\n",
              "      (bn1): BatchNorm2d(512, eps=1e-05, momentum=0.1, affine=True, track_running_stats=True)\n",
              "      (relu): ReLU(inplace=True)\n",
              "      (conv2): Conv2d(512, 512, kernel_size=(3, 3), stride=(1, 1), padding=(1, 1), bias=False)\n",
              "      (bn2): BatchNorm2d(512, eps=1e-05, momentum=0.1, affine=True, track_running_stats=True)\n",
              "      (downsample): Sequential(\n",
              "        (0): Conv2d(256, 512, kernel_size=(1, 1), stride=(2, 2), bias=False)\n",
              "        (1): BatchNorm2d(512, eps=1e-05, momentum=0.1, affine=True, track_running_stats=True)\n",
              "      )\n",
              "    )\n",
              "    (1): BasicBlock(\n",
              "      (conv1): Conv2d(512, 512, kernel_size=(3, 3), stride=(1, 1), padding=(1, 1), bias=False)\n",
              "      (bn1): BatchNorm2d(512, eps=1e-05, momentum=0.1, affine=True, track_running_stats=True)\n",
              "      (relu): ReLU(inplace=True)\n",
              "      (conv2): Conv2d(512, 512, kernel_size=(3, 3), stride=(1, 1), padding=(1, 1), bias=False)\n",
              "      (bn2): BatchNorm2d(512, eps=1e-05, momentum=0.1, affine=True, track_running_stats=True)\n",
              "    )\n",
              "  )\n",
              "  (avgpool): AdaptiveAvgPool2d(output_size=(1, 1))\n",
              "  (fc): Linear(in_features=512, out_features=13, bias=True)\n",
              ")"
            ]
          },
          "metadata": {
            "tags": []
          },
          "execution_count": 18
        }
      ]
    },
    {
      "cell_type": "markdown",
      "metadata": {
        "id": "4o-7vA9SPDuy",
        "colab_type": "text"
      },
      "source": [
        "Evaluation"
      ]
    },
    {
      "cell_type": "code",
      "metadata": {
        "id": "5G4bPgJXPFXk",
        "colab_type": "code",
        "outputId": "cb505ee7-c731-4b96-e912-345f1ace776f",
        "colab": {
          "base_uri": "https://localhost:8080/",
          "height": 36
        }
      },
      "source": [
        "correct = 0\n",
        "total = 0\n",
        "with torch.no_grad():\n",
        "    for data in data_loader_test:\n",
        "        images, labels = data\n",
        "        images = images.to(device)\n",
        "        labels = labels.to(device)\n",
        "        outputs = net(images)\n",
        "        _, predicted = torch.max(outputs.data, 1)\n",
        "        total += labels.size(0)\n",
        "        correct += (predicted == labels).sum().item()\n",
        "\n",
        "print('Accuracy of the network on the 10000 test images: %d %%' % (\n",
        "    100 * correct / total))"
      ],
      "execution_count": 19,
      "outputs": [
        {
          "output_type": "stream",
          "text": [
            "Accuracy of the network on the 10000 test images: 87 %\n"
          ],
          "name": "stdout"
        }
      ]
    },
    {
      "cell_type": "markdown",
      "metadata": {
        "id": "a7RVxSFUV6_T",
        "colab_type": "text"
      },
      "source": [
        "Make prediction to non-labeld data."
      ]
    },
    {
      "cell_type": "code",
      "metadata": {
        "id": "lD2E3dK1WAqp",
        "colab_type": "code",
        "colab": {}
      },
      "source": [
        "def pil_loader(path):\n",
        "    # open path as file to avoid ResourceWarning (https://github.com/python-pillow/Pillow/issues/835)\n",
        "    with open(path, 'rb') as f:\n",
        "        img = Image.open(f)\n",
        "        return img.convert('RGB')\n",
        "\n",
        "\n",
        "def accimage_loader(path):\n",
        "    import accimage\n",
        "    try:\n",
        "        return accimage.Image(path)\n",
        "    except IOError:\n",
        "        # Potentially a decoding problem, fall back to PIL.Image\n",
        "        return pil_loader(path)\n",
        "\n",
        "\n",
        "def default_loader(path):\n",
        "    from torchvision import get_image_backend\n",
        "    if get_image_backend() == 'accimage':\n",
        "        return accimage_loader(path)\n",
        "    else:\n",
        "        return pil_loader(path)\n",
        "      \n",
        "def MyDataset(root_dir, transform):\n",
        "    file_name = []\n",
        "    images = []\n",
        "    for root, _, fnames in sorted(os.walk(os.path.join(root_dir))):\n",
        "        for fname in sorted(fnames):\n",
        "            path = os.path.join(root, fname)\n",
        "            file_name.append(fname[:10])\n",
        "            item = transform(default_loader(path))\n",
        "            images.append(torch.unsqueeze(item, 0))\n",
        "    return file_name, images\n",
        "\n",
        "file_name, predict_dataset = MyDataset('dataset/dataset/test', data_transform)\n",
        "prediction = []\n",
        "with torch.no_grad():\n",
        "    for data in predict_dataset:\n",
        "        data = data.to(device)\n",
        "        outputs = net(data)\n",
        "        _, predicted = torch.max(outputs.data, 1)\n",
        "        prediction.append(predicted.item())"
      ],
      "execution_count": 0,
      "outputs": []
    },
    {
      "cell_type": "markdown",
      "metadata": {
        "id": "PevforYQvoHx",
        "colab_type": "text"
      },
      "source": [
        "Export to a .csv file."
      ]
    },
    {
      "cell_type": "code",
      "metadata": {
        "id": "0dQHZC2GrXLR",
        "colab_type": "code",
        "colab": {}
      },
      "source": [
        "df = pd.DataFrame({'id':file_name, 'label':[data_classes[x] for x in prediction]})\n",
        "df.to_csv('result.csv', index=False)"
      ],
      "execution_count": 0,
      "outputs": []
    }
  ]
}