{
  "nbformat": 4,
  "nbformat_minor": 0,
  "metadata": {
    "colab": {
      "name": "DLCV_HW03_RetinaNet.ipynb",
      "provenance": [],
      "collapsed_sections": [],
      "toc_visible": true
    },
    "kernelspec": {
      "name": "python3",
      "display_name": "Python 3"
    },
    "accelerator": "GPU"
  },
  "cells": [
    {
      "cell_type": "markdown",
      "metadata": {
        "id": "kjbY999n1fTT",
        "colab_type": "text"
      },
      "source": [
        "# Install mmdetection\n",
        "Before we install `mmdetection`, we need to modify `mmdetection/mmdet/datasets/pipelines/loading.py`. Function `_load_bboxes` in `LoadAnnotations` has a bug.\n",
        "\n",
        "```python\n",
        "<<<<<<<<<<<<<<<<<<<<\n",
        "67 results['gt_bboxes_ignore'] = ann_info.get('bboxes_ignore', None)\n",
        "68 results['bbox_fields'].extend(['gt_bboxes', 'gt_bboxes_ignore'])\n",
        "====================\n",
        "67 tmp = ann_info.get('bboxes_ignore', None)\n",
        "68 if tmp is None:\n",
        "69     results['bbox_fields'].append('gt_bboxes')\n",
        "70 else:\n",
        "71     results['gt_bboxes_ignore'] = tmp\n",
        "72     results['bbox_fields'].extend(['gt_bboxes', 'gt_bboxes_ignore'])\n",
        ">>>>>>>>>>>>>>>>>>>>\n",
        "```"
      ]
    },
    {
      "cell_type": "code",
      "metadata": {
        "id": "O0cGGpHK1jxw",
        "colab_type": "code",
        "colab": {}
      },
      "source": [
        "# Mount google drive\n",
        "from google.colab import drive\n",
        "drive.mount('/gdrive')\n",
        "\n",
        "! git clone https://github.com/open-mmlab/mmdetection.git\n",
        "! cp /gdrive/'My Drive'/'DLCV Homework'/'HW03'/'mmdetection_patch'/loading.py \\\n",
        "./mmdetection/mmdet/datasets/pipelines/\n",
        "! pip install -q mmcv terminaltables\n",
        "%cd /content/mmdetection\n",
        "! python setup.py install\n",
        "! pip install -r requirements.txt\n",
        "%cd /content"
      ],
      "execution_count": 0,
      "outputs": []
    },
    {
      "cell_type": "markdown",
      "metadata": {
        "id": "OuyVppx-7xDz",
        "colab_type": "text"
      },
      "source": [
        "# Prepare SVHN data\n",
        "I put SVHN data and annotations in the google drive. Copy them to the workdpace."
      ]
    },
    {
      "cell_type": "code",
      "metadata": {
        "id": "TXyAhtZo75B1",
        "colab_type": "code",
        "colab": {}
      },
      "source": [
        "# Move test.zip and train.tar.gz to the workspace.\n",
        "! mkdir -p data\n",
        "! unzip -q /gdrive/'My Drive'/'DLCV Homework'/'HW03'/'data'/test.zip -d ./data/\n",
        "! tar zxf /gdrive/'My Drive'/'DLCV Homework'/'HW03'/'data'/train.tar.gz -C ./data/\n",
        "# Copy the annotation data to the workspace.\n",
        "! cp /gdrive/'My Drive'/'DLCV Homework'/'HW03'/'data'/SVHN.pkl ./data/\n",
        "# Copy the configure file to the workspace.\n",
        "! mkdir -p config\n",
        "! cp /gdrive/'My Drive'/'DLCV Homework'/'HW03'/'config'/retinanet_r50_fpn_1x.py ./config/\n",
        "# Copy all helper files to the workspace.\n",
        "! mkdir -p src\n",
        "! cp /gdrive/'My Drive'/'DLCV Homework'/'HW03'/'src'/* ./src/\n",
        "# Copy the latest checkpoint to the workspace.\n",
        "! mkdir -p train_logs\n",
        "! cp /gdrive/'My Drive'/'DLCV Homework'/'HW03'/'checkpoints'/retinanet_resnet101/epoch_26.pth ./train_logs/\n",
        "! cp /gdrive/'My Drive'/'DLCV Homework'/'HW03'/'checkpoints'/retinanet_resnet101/latest.pth ./train_logs/"
      ],
      "execution_count": 0,
      "outputs": []
    },
    {
      "cell_type": "markdown",
      "metadata": {
        "id": "SnyNlQMv3HF-",
        "colab_type": "text"
      },
      "source": [
        "Caclulate mean and std of the dataset."
      ]
    },
    {
      "cell_type": "code",
      "metadata": {
        "id": "39QqzG4dyKcp",
        "colab_type": "code",
        "colab": {}
      },
      "source": [
        "# # Caclulate mean and std of the dataset.\n",
        "# import cv2\n",
        "# import numpy as np\n",
        "\n",
        "# mean = np.array([0.0, 0.0, 0.0])\n",
        "# std = np.array([0.0, 0.0, 0.0])\n",
        "# for i in range(1, 33403):\n",
        "#     img = cv2.imread('./data/train/'+str(i)+'.png')\n",
        "#     mean += np.array([np.mean(img[:, :, j]) for j in range(img.ndim)])\n",
        "#     std += np.array([np.std(img[:, :, j]) for j in range(img.ndim)])\n",
        "# mean /= 33402\n",
        "# std /= 33402\n",
        "# print(mean, std)\n",
        "\n",
        "# # Caclulate mean and std of the dataset.\n",
        "# import cv2\n",
        "# import numpy as np\n",
        "\n",
        "# mean = 0.0\n",
        "# std = 0.0\n",
        "# for i in range(1, 33403):\n",
        "#     img = cv2.imread('./data/train/'+str(i)+'.png', cv2.IMREAD_GRAYSCALE)\n",
        "#     mean += np.array(np.mean(img))\n",
        "#     std += np.array(np.std(img))\n",
        "# mean /= 33402\n",
        "# std /= 33402\n",
        "# print(mean, std)"
      ],
      "execution_count": 0,
      "outputs": []
    },
    {
      "cell_type": "markdown",
      "metadata": {
        "id": "0PzdOSkdXJ73",
        "colab_type": "text"
      },
      "source": [
        "Create a dataset object used in `mmdetection`."
      ]
    },
    {
      "cell_type": "code",
      "metadata": {
        "id": "ZTAWilaJXXsW",
        "colab_type": "code",
        "colab": {}
      },
      "source": [
        "from mmcv import Config\n",
        "from mmdet.datasets import build_dataset\n",
        "import numpy as np\n",
        "\n",
        "cfg = Config.fromfile('./config/retinanet_r50_fpn_1x.py')\n",
        "dataset = build_dataset(cfg.data.train, {'test_mode': True})\n",
        "dataset.CLASSES = ('1', '2', '3', '4', '5', '6', '7', '8', '9', '0')\n",
        "dataset.flag = np.ones(len(dataset), dtype=np.uint8)\n",
        "dataset.test_mode = False"
      ],
      "execution_count": 0,
      "outputs": []
    },
    {
      "cell_type": "markdown",
      "metadata": {
        "id": "n-Xf1vgw-Rsh",
        "colab_type": "text"
      },
      "source": [
        "Show the distribution of the dataset."
      ]
    },
    {
      "cell_type": "code",
      "metadata": {
        "id": "UvpXqmA5H78v",
        "colab_type": "code",
        "colab": {}
      },
      "source": [
        "# import matplotlib.pyplot as plt\n",
        "\n",
        "# w = [0 for _ in range(1000)]; h = [0 for _ in range(600)]\n",
        "# ratio = [0 for _ in range(20)]\n",
        "# for data in dataset.img_infos:\n",
        "#     img_w = int(data['width'])\n",
        "#     img_h = int(data['height'])\n",
        "#     for bbox in data['ann']['bboxes']:\n",
        "#         tmp_w = bbox[2] - bbox[0]\n",
        "#         tmp_h = bbox[3] - bbox[1]\n",
        "#         # if tmp_w <= 79:\n",
        "#         #     w[int(tmp_w)] += 1;\n",
        "#         # # if tmp_h <= 99:\n",
        "#         # #     h[int(tmp_h)] += 1\n",
        "#         # if round(tmp_h*4.5) < 599.5:\n",
        "#         #     h[int(round(tmp_h*4.5))] += 1\n",
        "#         if img_w <= 999:\n",
        "#             w[int(img_w)] += 1\n",
        "#         if img_h <= 599:\n",
        "#             h[int(img_h)] += 1\n",
        "#         if round(tmp_h*4.5/tmp_w) < 19.5:\n",
        "#             ratio[int(round(tmp_h*4.5/tmp_w))] += 1\n",
        "#         # if round(img_h*10/img_w) < 9.5:\n",
        "#         #     ratio[int(round(img_h*10/img_w))] += 1\n",
        "# plt.plot(w)\n",
        "# plt.show()\n",
        "# plt.plot(h)\n",
        "# plt.show()\n",
        "# plt.plot(ratio)\n",
        "# plt.show()"
      ],
      "execution_count": 0,
      "outputs": []
    },
    {
      "cell_type": "markdown",
      "metadata": {
        "id": "g-WyTDPlXKhJ",
        "colab_type": "text"
      },
      "source": [
        "Visualize the bounding boxes to check whether we parse the annotation data correctly."
      ]
    },
    {
      "cell_type": "code",
      "metadata": {
        "id": "z2Yj3WR6k6MR",
        "colab_type": "code",
        "colab": {}
      },
      "source": [
        "from src.show_bbox import imshow_bboxes\n",
        "\n",
        "# show image with bounding boxes\n",
        "print(dataset.img_infos[0])\n",
        "bboxes = dataset.img_infos[0]['ann']['bboxes']\n",
        "imshow_bboxes('./data/train/1.png', bboxes)"
      ],
      "execution_count": 0,
      "outputs": []
    },
    {
      "cell_type": "markdown",
      "metadata": {
        "id": "zORS1mgp-qBA",
        "colab_type": "text"
      },
      "source": [
        "# Build RetinaNet"
      ]
    },
    {
      "cell_type": "code",
      "metadata": {
        "id": "eaEkFLP8-tMI",
        "colab_type": "code",
        "colab": {}
      },
      "source": [
        "from mmdet import __version__\n",
        "from mmdet.apis import (get_root_logger, init_dist, set_random_seed,\n",
        "                        train_detector)\n",
        "from mmdet.models import build_detector\n",
        "\n",
        "# Init distributed env first, since logger depends on the dist info.\n",
        "distributed = False\n",
        "\n",
        "# init logger before other steps\n",
        "logger = get_root_logger(cfg.log_level)\n",
        "logger.info('Distributed training: {}'.format(distributed))\n",
        "\n",
        "# Set random seed.\n",
        "if cfg.seed is not None:\n",
        "    logger.info('Set random seed to {}'.format(cfg.seed))\n",
        "    set_random_seed(cfg.seed)\n",
        "\n",
        "# Build the model.\n",
        "model = build_detector(\n",
        "    cfg.model, train_cfg=cfg.train_cfg, test_cfg=cfg.test_cfg)\n",
        "model.CLASSES = dataset.CLASSES\n",
        "\n",
        "if cfg.checkpoint_config is not None:\n",
        "    # Save mmdet version, config file content and class names in\n",
        "    # checkpoints as meta data\n",
        "    cfg.checkpoint_config.meta = dict(\n",
        "        mmdet_version=__version__,\n",
        "        config=cfg.text,\n",
        "        CLASSES=dataset.CLASSES)\n",
        "\n",
        "# Train the model.\n",
        "for epoch in range(26, 27):\n",
        "    if epoch >= 1:\n",
        "        cfg.resume_from = './train_logs/latest.pth'\n",
        "    cfg.total_epochs = epoch + 1\n",
        "    train_detector(\n",
        "        model,\n",
        "        dataset,\n",
        "        cfg,\n",
        "        distributed=distributed,\n",
        "        logger=logger)\n",
        "    from google.colab import drive\n",
        "    drive.mount('/gdrive')\n",
        "    ! cp ./train_logs/latest.pth /gdrive/'My Drive'/'DLCV Homework'/HW03/checkpoints/retinanet_resnet101/\n",
        "    ! cp {'./train_logs/epoch_'+str(epoch+1)+'.pth'} /gdrive/'My Drive'/'DLCV Homework'/HW03/checkpoints/retinanet_resnet101/\n",
        "    ! cp ./train_logs/*.log* /gdrive/'My Drive'/'DLCV Homework'/HW03/train_logs/retinanet_resnet101/\n",
        "    ! rm ./train_logs/*.log*"
      ],
      "execution_count": 0,
      "outputs": []
    },
    {
      "cell_type": "markdown",
      "metadata": {
        "id": "xV1_GHV0V-kR",
        "colab_type": "text"
      },
      "source": [
        "# Results\n",
        "Result of single image."
      ]
    },
    {
      "cell_type": "code",
      "metadata": {
        "id": "r6Vft6GU3Etp",
        "colab_type": "code",
        "colab": {}
      },
      "source": [
        "from mmcv.runner import load_checkpoint\n",
        "from mmdet.apis import inference_detector, show_result_pyplot, init_detector\n",
        "\n",
        "checkpoint_file = './train_logs/latest.pth'\n",
        "score_thr = 0.5\n",
        "\n",
        "# build the model from a config file and a checkpoint file\n",
        "test_model = init_detector('./config/retinanet_r50_fpn_1x.py', checkpoint_file)\n",
        "\n",
        "img = './data/test/30.png'\n",
        "result = inference_detector(test_model, img)\n",
        "for num in range(len(result)):\n",
        "    if result[num].shape[0] != 0:\n",
        "        for r in result[num]:\n",
        "            print('label: %2d, score: %.3f' % (num+1, r[-1]))\n",
        "show_result_pyplot(img, result, test_model.CLASSES, score_thr=score_thr)"
      ],
      "execution_count": 0,
      "outputs": []
    },
    {
      "cell_type": "markdown",
      "metadata": {
        "id": "7ovYB6Ousdpg",
        "colab_type": "text"
      },
      "source": [
        "Time performance."
      ]
    },
    {
      "cell_type": "code",
      "metadata": {
        "id": "_tXtv8d1r1CP",
        "colab_type": "code",
        "outputId": "8ba7ecbb-d795-4b97-ee9d-50e12d51bdcb",
        "colab": {
          "base_uri": "https://localhost:8080/",
          "height": 35
        }
      },
      "source": [
        "%%timeit\n",
        "result = inference_detector(test_model, './data/test/1.png')"
      ],
      "execution_count": 33,
      "outputs": [
        {
          "output_type": "stream",
          "text": [
            "10 loops, best of 3: 128 ms per loop\n"
          ],
          "name": "stdout"
        }
      ]
    },
    {
      "cell_type": "markdown",
      "metadata": {
        "id": "jyZy1nfN3LMZ",
        "colab_type": "text"
      },
      "source": [
        "Dump result to json format."
      ]
    },
    {
      "cell_type": "code",
      "metadata": {
        "id": "9glqdW9VWBD3",
        "colab_type": "code",
        "colab": {}
      },
      "source": [
        "from mmcv.runner import load_checkpoint\n",
        "from mmdet.apis import inference_detector, show_result_pyplot, init_detector\n",
        "import json\n",
        "\n",
        "checkpoint_file = './train_logs/latest.pth'\n",
        "score_thr = 0.5\n",
        "\n",
        "# build the model from a config file and a checkpoint file\n",
        "test_model = init_detector('./config/retinanet_r50_fpn_1x.py', checkpoint_file)\n",
        "\n",
        "# test a single image and show the results\n",
        "ret = []\n",
        "for img_id in range(1, 13069):\n",
        "    img = './data/test/' + str(img_id) + '.png'\n",
        "    result = inference_detector(test_model, img)\n",
        "    now = {\n",
        "        'bbox': [],\n",
        "        'score': [],\n",
        "        'label': []\n",
        "    }\n",
        "    for num in range(len(result)):\n",
        "        for r in result[num]:\n",
        "            now['bbox'].append(\n",
        "                (float(r[1]), float(r[0]), float(r[3]), float(r[2]))\n",
        "                )\n",
        "            now['score'].append(float(r[-1]))\n",
        "            now['label'].append(int(num+1))\n",
        "    ret.append(now)\n",
        "\n",
        "with open('0856030.json', 'w') as outfile:\n",
        "    json.dump(ret, outfile)"
      ],
      "execution_count": 0,
      "outputs": []
    },
    {
      "cell_type": "markdown",
      "metadata": {
        "id": "ID0rwvz0YcfG",
        "colab_type": "text"
      },
      "source": [
        "# Modify learning rate in the checkpoint"
      ]
    },
    {
      "cell_type": "code",
      "metadata": {
        "id": "DylDc6NxPalT",
        "colab_type": "code",
        "colab": {}
      },
      "source": [
        "import torch\n",
        "from mmcv.runner import load_checkpoint\n",
        "\n",
        "tmp_model = build_detector(\n",
        "    cfg.model, train_cfg=cfg.train_cfg, test_cfg=cfg.test_cfg)\n",
        "\n",
        "device_id = torch.cuda.current_device()\n",
        "checkpoint = load_checkpoint(\n",
        "    tmp_model,\n",
        "    'train_logs/epoch_25.pth',\n",
        "    map_location=lambda storage, loc: storage.cuda(device_id))\n",
        "\n",
        "print(checkpoint['optimizer'].keys())\n",
        "print(checkpoint['optimizer']['param_groups'][0]['initial_lr'])\n",
        "print(checkpoint['optimizer']['param_groups'][0]['lr'])\n",
        "checkpoint['optimizer']['param_groups'][0]['initial_lr'] = 0.001\n",
        "torch.save(checkpoint, 'train_logs/test.pth')"
      ],
      "execution_count": 0,
      "outputs": []
    }
  ]
}